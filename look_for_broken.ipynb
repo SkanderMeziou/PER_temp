{
 "cells": [
  {
   "cell_type": "markdown",
   "metadata": {},
   "source": "# Process subtypes for each aggregation type"
  },
  {
   "cell_type": "code",
   "metadata": {
    "ExecuteTime": {
     "end_time": "2024-11-08T09:25:07.283341Z",
     "start_time": "2024-11-08T09:24:39.900693Z"
    }
   },
   "source": [
    "import numpy as np\n",
    "import polars as pl\n",
    "from pathlib import Path\n",
    "import matplotlib as mpl\n",
    "import matplotlib.pyplot as plt\n",
    "\n",
    "# Dossier où sont stockés les CSV\n",
    "folder_path = Path('./scopus')\n",
    "\n",
    "# Initialiser un dictionnaire pour stocker les statistiques par discipline\n",
    "stats_per_discipline = {}\n",
    "detailed_stats_per_discipline = {}\n",
    "agg_types = set()\n",
    "\n",
    "# Liste des colonnes à charger pour éviter les erreurs (on exclut ici 'author_info')\n",
    "cols_to_load = [\n",
    "    'dc:identifier', 'prism:url',\n",
    "    'prism:aggregationType', 'prism:eIssn', 'prism:issn', \n",
    "    'prism:issueIdentifier', 'prism:coverDisplayDate', 'subtypeDescription'\n",
    "]\n",
    "\n",
    "# Parcourir chaque fichier CSV dans le dossier\n",
    "for file_path in folder_path.glob(\"*.csv\"):\n",
    "    try:\n",
    "        # Lire le fichier CSV avec Polars en chargeant uniquement les colonnes nécessaires\n",
    "        df = pl.read_csv(\n",
    "            file_path,\n",
    "            columns=cols_to_load,\n",
    "            encoding=\"ISO-8859-1\",\n",
    "            ignore_errors=True\n",
    "        )\n",
    "\n",
    "        # Vérifier si la colonne 'prism:aggregationType' existe\n",
    "        if 'prism:aggregationType' in df.columns and 'subtypeDescription' in df.columns:\n",
    "            # Compter les occurrences de chaque type dans 'prism:aggregationType' en filtrant les valeurs None\n",
    "            detailed_counts = {}\n",
    "            for line, (agg_type, subtype_desc) in enumerate(zip(df['prism:aggregationType'], df['subtypeDescription'])) :\n",
    "                if agg_type is not None and subtype_desc is not None:\n",
    "                    if agg_type not in agg_types : print(agg_type, line)\n",
    "                    agg_types.add(agg_type)\n",
    "                    if subtype_desc not in detailed_counts :\n",
    "                        detailed_counts[subtype_desc] = {agg_type : 0}\n",
    "                    if agg_type not in detailed_counts[subtype_desc] :\n",
    "                        detailed_counts[subtype_desc][agg_type] = 0\n",
    "                    detailed_counts[subtype_desc][agg_type] += 1\n",
    "                    \n",
    "            # Ajouter les résultats au dictionnaire avec le nom de la discipline\n",
    "            discipline_name = file_path.stem  # Utiliser le nom du fichier sans extension comme nom de la discipline\n",
    "            detailed_stats_per_discipline[discipline_name] = detailed_counts\n",
    "\n",
    "    except Exception as e:\n",
    "        print(f\"Erreur lors de la lecture du fichier {file_path.name}: {e}\")\n"
   ],
   "outputs": [
    {
     "name": "stdout",
     "output_type": "stream",
     "text": [
      "Journal 0\n",
      "Trade Journal 734\n",
      "Book Series 1022\n",
      "Book 3345\n",
      "Conference Proceeding 7816\n",
      "Report 27428\n",
      " 'affiliation-country': 'france'} 755299\n"
     ]
    }
   ],
   "execution_count": 4
  },
  {
   "metadata": {},
   "cell_type": "code",
   "outputs": [],
   "execution_count": null,
   "source": ""
  }
 ],
 "metadata": {
  "kernelspec": {
   "display_name": "Python 3",
   "language": "python",
   "name": "python3"
  },
  "language_info": {
   "codemirror_mode": {
    "name": "ipython",
    "version": 3
   },
   "file_extension": ".py",
   "mimetype": "text/x-python",
   "name": "python",
   "nbconvert_exporter": "python",
   "pygments_lexer": "ipython3",
   "version": "3.11.9"
  }
 },
 "nbformat": 4,
 "nbformat_minor": 2
}
