{
 "cells": [
  {
   "cell_type": "markdown",
   "metadata": {},
   "source": [
    "## conference vs journal"
   ]
  },
  {
   "cell_type": "code",
   "execution_count": null,
   "metadata": {},
   "outputs": [],
   "source": [
    "from pyspark.sql import SparkSession\n",
    "from pyspark.sql.functions import col, count\n",
    "\n",
    "# Initialiser une session Spark\n",
    "spark = SparkSession.builder \\\n",
    "    .appName(\"AggregationTypeStats\") \\\n",
    "    .getOrCreate()\n",
    "\n",
    "# Dossier où sont stockés les CSV\n",
    "folder_path = './data/scopus'\n",
    "\n",
    "# Lire tous les fichiers CSV dans le dossier\n",
    "df = spark.read.option(\"header\", \"true\").csv(folder_path + \"/*.csv\")\n",
    "\n",
    "# Vérifier si la colonne 'aggregationType' existe et calculer les statistiques\n",
    "if 'aggregationType' in df.columns:\n",
    "    # Compter les occurrences de chaque type dans 'aggregationType' par fichier (discipline)\n",
    "    aggregation_counts = df.groupBy(\"fileName\", \"aggregationType\").count()\n",
    "    \n",
    "    # Afficher les résultats\n",
    "    aggregation_counts.show(truncate=False)\n",
    "else:\n",
    "    print(\"La colonne 'aggregationType' n'existe pas dans les fichiers CSV.\")\n",
    "\n"
   ]
  }
 ],
 "metadata": {
  "kernelspec": {
   "display_name": "Python 3",
   "language": "python",
   "name": "python3"
  },
  "language_info": {
   "codemirror_mode": {
    "name": "ipython",
    "version": 3
   },
   "file_extension": ".py",
   "mimetype": "text/x-python",
   "name": "python",
   "nbconvert_exporter": "python",
   "pygments_lexer": "ipython3",
   "version": "3.11.9"
  }
 },
 "nbformat": 4,
 "nbformat_minor": 2
}
