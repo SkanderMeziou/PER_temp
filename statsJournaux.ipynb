{
 "cells": [
  {
   "cell_type": "markdown",
   "metadata": {},
   "source": [
    "# stats journaux"
   ]
  },
  {
   "cell_type": "code",
   "execution_count": 4,
   "metadata": {
    "ExecuteTime": {
     "end_time": "2024-11-22T10:21:29.174021Z",
     "start_time": "2024-11-22T10:21:17.655294Z"
    }
   },
   "outputs": [
    {
     "name": "stdout",
     "output_type": "stream",
     "text": [
      "Fichier CSV sauvegardé avec le nombre de publications par ISSN : ./data/scopus_results\\clean_AGRI_issn_publication_counts.csv\n",
      "Graphique sauvegardé : ./data/scopus_results\\clean_AGRI_publication_distribution.html\n",
      "Fichier CSV sauvegardé avec le nombre de publications par ISSN : ./data/scopus_results\\clean_ARTS_issn_publication_counts.csv\n",
      "Graphique sauvegardé : ./data/scopus_results\\clean_ARTS_publication_distribution.html\n",
      "Fichier CSV sauvegardé avec le nombre de publications par ISSN : ./data/scopus_results\\clean_BIOC_issn_publication_counts.csv\n",
      "Graphique sauvegardé : ./data/scopus_results\\clean_BIOC_publication_distribution.html\n",
      "Fichier CSV sauvegardé avec le nombre de publications par ISSN : ./data/scopus_results\\clean_BUSI_issn_publication_counts.csv\n",
      "Graphique sauvegardé : ./data/scopus_results\\clean_BUSI_publication_distribution.html\n",
      "Fichier CSV sauvegardé avec le nombre de publications par ISSN : ./data/scopus_results\\clean_CENG_issn_publication_counts.csv\n",
      "Graphique sauvegardé : ./data/scopus_results\\clean_CENG_publication_distribution.html\n",
      "Fichier CSV sauvegardé avec le nombre de publications par ISSN : ./data/scopus_results\\clean_COMP_issn_publication_counts.csv\n",
      "Graphique sauvegardé : ./data/scopus_results\\clean_COMP_publication_distribution.html\n",
      "Fichier CSV sauvegardé avec le nombre de publications par ISSN : ./data/scopus_results\\clean_DECI_issn_publication_counts.csv\n",
      "Graphique sauvegardé : ./data/scopus_results\\clean_DECI_publication_distribution.html\n",
      "Fichier CSV sauvegardé avec le nombre de publications par ISSN : ./data/scopus_results\\clean_DENT_issn_publication_counts.csv\n",
      "Graphique sauvegardé : ./data/scopus_results\\clean_DENT_publication_distribution.html\n",
      "Fichier CSV sauvegardé avec le nombre de publications par ISSN : ./data/scopus_results\\clean_EART_issn_publication_counts.csv\n",
      "Graphique sauvegardé : ./data/scopus_results\\clean_EART_publication_distribution.html\n",
      "Fichier CSV sauvegardé avec le nombre de publications par ISSN : ./data/scopus_results\\clean_ECON_issn_publication_counts.csv\n",
      "Graphique sauvegardé : ./data/scopus_results\\clean_ECON_publication_distribution.html\n",
      "Fichier CSV sauvegardé avec le nombre de publications par ISSN : ./data/scopus_results\\clean_ENER_issn_publication_counts.csv\n",
      "Graphique sauvegardé : ./data/scopus_results\\clean_ENER_publication_distribution.html\n",
      "Fichier CSV sauvegardé avec le nombre de publications par ISSN : ./data/scopus_results\\clean_ENGI_issn_publication_counts.csv\n",
      "Graphique sauvegardé : ./data/scopus_results\\clean_ENGI_publication_distribution.html\n",
      "Fichier CSV sauvegardé avec le nombre de publications par ISSN : ./data/scopus_results\\clean_ENVI_issn_publication_counts.csv\n",
      "Graphique sauvegardé : ./data/scopus_results\\clean_ENVI_publication_distribution.html\n"
     ]
    },
    {
     "name": "stderr",
     "output_type": "stream",
     "text": [
      "C:\\Users\\mezio\\AppData\\Local\\Temp\\ipykernel_27892\\1859463618.py:20: DtypeWarning:\n",
      "\n",
      "Columns (6) have mixed types. Specify dtype option on import or set low_memory=False.\n",
      "\n"
     ]
    },
    {
     "name": "stdout",
     "output_type": "stream",
     "text": [
      "Fichier CSV sauvegardé avec le nombre de publications par ISSN : ./data/scopus_results\\clean_HEAL_issn_publication_counts.csv\n",
      "Graphique sauvegardé : ./data/scopus_results\\clean_HEAL_publication_distribution.html\n",
      "Fichier CSV sauvegardé avec le nombre de publications par ISSN : ./data/scopus_results\\clean_IMMU_issn_publication_counts.csv\n",
      "Graphique sauvegardé : ./data/scopus_results\\clean_IMMU_publication_distribution.html\n",
      "Fichier CSV sauvegardé avec le nombre de publications par ISSN : ./data/scopus_results\\clean_MATE_issn_publication_counts.csv\n",
      "Graphique sauvegardé : ./data/scopus_results\\clean_MATE_publication_distribution.html\n",
      "Fichier CSV sauvegardé avec le nombre de publications par ISSN : ./data/scopus_results\\clean_MATH_issn_publication_counts.csv\n",
      "Graphique sauvegardé : ./data/scopus_results\\clean_MATH_publication_distribution.html\n",
      "Fichier CSV sauvegardé avec le nombre de publications par ISSN : ./data/scopus_results\\clean_MULT_issn_publication_counts.csv\n",
      "Graphique sauvegardé : ./data/scopus_results\\clean_MULT_publication_distribution.html\n",
      "Fichier CSV sauvegardé avec le nombre de publications par ISSN : ./data/scopus_results\\clean_NEUR_issn_publication_counts.csv\n",
      "Graphique sauvegardé : ./data/scopus_results\\clean_NEUR_publication_distribution.html\n",
      "Fichier CSV sauvegardé avec le nombre de publications par ISSN : ./data/scopus_results\\clean_NURS_issn_publication_counts.csv\n",
      "Graphique sauvegardé : ./data/scopus_results\\clean_NURS_publication_distribution.html\n",
      "Fichier CSV sauvegardé avec le nombre de publications par ISSN : ./data/scopus_results\\clean_PHAR_issn_publication_counts.csv\n",
      "Graphique sauvegardé : ./data/scopus_results\\clean_PHAR_publication_distribution.html\n",
      "Fichier CSV sauvegardé avec le nombre de publications par ISSN : ./data/scopus_results\\clean_PHYS_issn_publication_counts.csv\n",
      "Graphique sauvegardé : ./data/scopus_results\\clean_PHYS_publication_distribution.html\n",
      "Fichier CSV sauvegardé avec le nombre de publications par ISSN : ./data/scopus_results\\clean_PSYC_issn_publication_counts.csv\n",
      "Graphique sauvegardé : ./data/scopus_results\\clean_PSYC_publication_distribution.html\n",
      "Fichier CSV sauvegardé avec le nombre de publications par ISSN : ./data/scopus_results\\clean_SOCI_issn_publication_counts.csv\n",
      "Graphique sauvegardé : ./data/scopus_results\\clean_SOCI_publication_distribution.html\n",
      "Fichier CSV sauvegardé avec le nombre de publications par ISSN : ./data/scopus_results\\clean_VETE_issn_publication_counts.csv\n",
      "Graphique sauvegardé : ./data/scopus_results\\clean_VETE_publication_distribution.html\n",
      "Fichier CSV global sauvegardé avec le nombre de publications par ISSN : ./data/scopus_results\\overall_issn_publication_counts.csv\n",
      "Graphique global sauvegardé : ./data/scopus_results\\overall_publication_distribution.html\n"
     ]
    }
   ],
   "source": [
    "import pandas as pd\n",
    "import plotly.graph_objects as go\n",
    "import os\n",
    "\n",
    "# Dossier contenant les fichiers CSV source\n",
    "folder_path = './data/cleanScopus'\n",
    "\n",
    "# Dossier de sortie pour les résultats\n",
    "output_folder = './data/scopus_results'\n",
    "os.makedirs(output_folder, exist_ok=True)  # Créer le dossier s'il n'existe pas\n",
    "\n",
    "# DataFrame global pour regrouper toutes les données\n",
    "overall_df = pd.DataFrame()\n",
    "\n",
    "# Parcourir tous les fichiers CSV dans le dossier\n",
    "for file_name in os.listdir(folder_path):\n",
    "    if file_name.endswith('.csv'):\n",
    "        # Charger le fichier CSV\n",
    "        file_path = os.path.join(folder_path, file_name)\n",
    "        df = pd.read_csv(file_path)\n",
    "        \n",
    "        # Ajouter les données au DataFrame global\n",
    "        overall_df = pd.concat([overall_df, df], ignore_index=True)\n",
    "        \n",
    "        # Compter le nombre de publications par ISSN\n",
    "        publication_counts = df['prism:issn'].value_counts()\n",
    "        \n",
    "        # Sauvegarder les comptes de publications par ISSN dans un fichier CSV\n",
    "        output_file_1 = os.path.join(output_folder, f'{file_name.replace(\".csv\", \"\")}_issn_publication_counts.csv')\n",
    "        publication_counts.to_csv(output_file_1, header=['Nombre de publications'], index_label='ISSN')\n",
    "        print(f\"Fichier CSV sauvegardé avec le nombre de publications par ISSN : {output_file_1}\")\n",
    "        \n",
    "        # Créer un DataFrame explicite pour l'histogramme\n",
    "        count_of_counts = pd.DataFrame({'Nombre de journaux': publication_counts.value_counts()}).reset_index()\n",
    "        count_of_counts.columns = ['Nombre de publications', 'Nombre de journaux']\n",
    "        \n",
    "        # Trier par le nombre de publications\n",
    "        count_of_counts = count_of_counts.sort_values(by='Nombre de publications')\n",
    "        count_dict = count_of_counts.set_index('Nombre de publications')['Nombre de journaux'].to_dict()\n",
    "        \n",
    "        # Créer un histogramme avec Plotly\n",
    "        fig = go.Figure(data = [go.Bar(\n",
    "            x=list(count_dict.keys()),  # Nombre de publications\n",
    "            y=list(count_dict.values()),  # Nombre de journaux\n",
    "            marker=dict(color='blue'),  # Couleur du graphique\n",
    "            name=\"Distribution des publications\"\n",
    "        )])\n",
    "        \n",
    "        # Ajouter des labels et un titre\n",
    "        fig.update_layout(\n",
    "            title=f\"Distribution du nombre de publications par journal ({file_name})\",\n",
    "            xaxis_title=\"Nombre de publications\",\n",
    "            yaxis_title=\"Nombre de journaux\",\n",
    "            template=\"plotly_white\"\n",
    "        )\n",
    "        \n",
    "        # Enregistrer le graphique\n",
    "        output_file_2 = os.path.join(output_folder, f'{file_name.replace(\".csv\", \"\")}_publication_distribution.html')\n",
    "        fig.write_html(output_file_2)\n",
    "        print(f\"Graphique sauvegardé : {output_file_2}\")\n",
    "\n",
    "# Générer les résultats \"overall\"\n",
    "overall_publication_counts = overall_df['prism:issn'].value_counts()\n",
    "\n",
    "# Sauvegarder le compte total par ISSN\n",
    "overall_file_1 = os.path.join(output_folder, 'overall_issn_publication_counts.csv')\n",
    "overall_publication_counts.to_csv(overall_file_1, header=['Nombre de publications'], index_label='ISSN')\n",
    "print(f\"Fichier CSV global sauvegardé avec le nombre de publications par ISSN : {overall_file_1}\")\n",
    "\n",
    "# Créer un DataFrame explicite pour l'histogramme global\n",
    "overall_count_of_counts = pd.DataFrame({'Nombre de journaux': overall_publication_counts.value_counts()}).reset_index()\n",
    "overall_count_of_counts.columns = ['Nombre de publications', 'Nombre de journaux']\n",
    "\n",
    "# Trier par le nombre de publications\n",
    "overall_count_of_counts = overall_count_of_counts.sort_values(by='Nombre de publications')\n",
    "overall_count_dict = overall_count_of_counts.set_index('Nombre de publications')['Nombre de journaux'].to_dict()\n",
    "\n",
    "# Créer un histogramme global avec Plotly\n",
    "overall_fig = go.Figure(data = [go.Bar(\n",
    "    x=list(overall_count_dict.keys()),  # Nombre de publications\n",
    "    y=list(overall_count_dict.values()),  # Nombre de journaux\n",
    "    marker=dict(color='green'),  # Couleur du graphique global\n",
    "    name=\"Distribution globale des publications\"\n",
    ")])\n",
    "\n",
    "# Ajouter des labels et un titre\n",
    "overall_fig.update_layout(\n",
    "    title=\"Distribution globale du nombre de publications par journal\",\n",
    "    xaxis_title=\"Nombre de publications\",\n",
    "    yaxis_title=\"Nombre de journaux\",\n",
    "    template=\"plotly_white\"\n",
    ")\n",
    "\n",
    "# Enregistrer l'histogramme global\n",
    "overall_file_2 = os.path.join(output_folder, 'overall_publication_distribution.html')\n",
    "overall_fig.write_html(overall_file_2)\n",
    "print(f\"Graphique global sauvegardé : {overall_file_2}\")\n"
   ]
  },
  {
   "cell_type": "code",
   "execution_count": 8,
   "metadata": {
    "ExecuteTime": {
     "end_time": "2024-11-22T10:24:25.767168Z",
     "start_time": "2024-11-22T10:24:25.497369Z"
    }
   },
   "outputs": [],
   "source": [
    "sum(count_dict.values())\n",
    "fig.write_html('./statsJournaux.html')"
   ]
  },
  {
   "cell_type": "markdown",
   "metadata": {},
   "source": []
  }
 ],
 "metadata": {
  "kernelspec": {
   "display_name": "Python 3",
   "language": "python",
   "name": "python3"
  },
  "language_info": {
   "codemirror_mode": {
    "name": "ipython",
    "version": 3
   },
   "file_extension": ".py",
   "mimetype": "text/x-python",
   "name": "python",
   "nbconvert_exporter": "python",
   "pygments_lexer": "ipython3",
   "version": "3.11.9"
  }
 },
 "nbformat": 4,
 "nbformat_minor": 2
}
