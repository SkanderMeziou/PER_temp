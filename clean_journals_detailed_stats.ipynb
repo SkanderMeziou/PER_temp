{
 "cells": [
  {
   "cell_type": "markdown",
   "metadata": {},
   "source": [
    "# Clean csv generator"
   ]
  },
  {
   "cell_type": "code",
   "metadata": {
    "ExecuteTime": {
     "end_time": "2024-11-22T12:02:18.622675Z",
     "start_time": "2024-11-22T12:02:17.935534Z"
    }
   },
   "source": [
    "import plotly.graph_objects as go\n",
    "import os\n",
    "import pandas as pd"
   ],
   "outputs": [],
   "execution_count": 1
  },
  {
   "cell_type": "code",
   "metadata": {
    "ExecuteTime": {
     "end_time": "2024-11-22T12:02:29.866991Z",
     "start_time": "2024-11-22T12:02:18.637629Z"
    }
   },
   "source": [
    "# Dossiers\n",
    "input_dir = './data/scopus'\n",
    "output_dir = './data/detailed_counts'\n",
    "\n",
    "overall_nb_pub = 0\n",
    "overall_nb_journals = 0\n",
    "overall_clean_journals = 0\n",
    "overall_unclean_journals = 0\n",
    "\n",
    "overall_clean_dict ={}\n",
    "overall_unclean_dict = {}\n",
    "\n",
    "for filename in os.listdir(input_dir):\n",
    "    if filename.endswith('.csv') :\n",
    "        print(filename)\n",
    "        input_path = os.path.join(input_dir, filename)\n",
    "        fig = go.Figure()\n",
    "\n",
    "        nb_pub = 0\n",
    "        nb_journals = 0\n",
    "        nb_clean_journals = 0\n",
    "        nb_unclean_journals =0\n",
    "        clean_dict = {}\n",
    "        unclean_dict = {}\n",
    "\n",
    "        df = pd.read_csv(input_path)\n",
    "        for ind, row in df.iterrows() :\n",
    "            \n",
    "            nb_pub += 1\n",
    "            if row[\"prism:aggregationType\"] == \"Journal\" :\n",
    "                nb_journals += 1\n",
    "                subtype = row[\"subtypeDescription\"]\n",
    "                issn = str(row[\"prism:issn\"])\n",
    "                e_issn = str(row[\"prism:eIssn\"])\n",
    "                if (issn and issn.strip() and issn.lower() != \"nan\") or  (e_issn and e_issn.strip() and e_issn.lower() != \"nan\") :\n",
    "                    if subtype not in overall_clean_dict :\n",
    "                        overall_clean_dict[subtype] = 0\n",
    "                    if subtype not in clean_dict :\n",
    "                        clean_dict[subtype] = 0\n",
    "                    nb_clean_journals += 1\n",
    "                    clean_dict[subtype] += 1\n",
    "                    overall_clean_journals += 1\n",
    "                else :\n",
    "                    if subtype not in overall_unclean_dict :\n",
    "                        overall_unclean_dict[subtype] = 0\n",
    "                    if subtype not in unclean_dict :\n",
    "                        unclean_dict[subtype] = 0\n",
    "                    nb_unclean_journals += 1\n",
    "                    unclean_dict[subtype] += 1\n",
    "                    overall_unclean_journals += 1\n",
    "\n",
    "        overall_nb_pub += nb_pub\n",
    "        overall_nb_journals += nb_journals\n",
    "        print(\"finish computations\")\n",
    "\n",
    "        # Créer un graphique en jauge pour afficher le pourcentage de journaux nettoyés\n",
    "        pub_percentage = nb_clean_journals / nb_pub * 100\n",
    "        journal_percentage = nb_clean_journals / nb_journals * 100\n",
    "\n",
    "        fig.add_trace(go.Indicator(\n",
    "            value=pub_percentage,\n",
    "            gauge={'axis': {'range': [0, 100]}, 'bar': {'color': \"#4CAF50\"}},\n",
    "            title={'text': filename + \" % sur les publications\"},\n",
    "            domain={'row': 0, 'column': 0}))\n",
    "        fig.add_trace(go.Indicator(\n",
    "            value=journal_percentage,\n",
    "            gauge={'axis': {'range': [0, 100]}, 'bar': {'color': \"#4CAF50\"}},\n",
    "            title={'text': filename + \" % sur les journaux\"},\n",
    "            domain={'row': 0, 'column': 1}))\n",
    "        print(\"finish basic%plot\")\n",
    "\n",
    "        if \"Article\" not in clean_dict:\n",
    "            clean_dict[\"Article\"] = 0\n",
    "        if \"Article\" not in unclean_dict:\n",
    "            unclean_dict[\"Article\"] = 0\n",
    "\n",
    "        clean_articles = clean_dict[\"Article\"]\n",
    "        unclean_articles = unclean_dict[\"Article\"]\n",
    "        fig.add_trace(go.Indicator(\n",
    "            value=sum([value for (key,value) in clean_dict.items() if key!=\"Article\"])/(nb_journals - clean_articles - unclean_articles)*100,\n",
    "            gauge={'axis': {'range': [0, 100]}, 'bar': {'color': \"#4CAF50\"}},\n",
    "            title={'text': filename + \" % Journaux non Articles propres\"},\n",
    "            domain={'row': 1, 'column': 0}))\n",
    "        fig.add_trace(go.Indicator(\n",
    "            value=clean_articles/(clean_articles + unclean_articles)*100,\n",
    "            gauge={'axis': {'range': [0, 100]}, 'bar': {'color': \"#4CAF50\"}},\n",
    "            title={'text': filename + \" % Journaux Articles propres\"},\n",
    "            domain={'row': 1, 'column': 1}))\n",
    "        fig.update_layout(\n",
    "            grid={'rows': 2, 'columns': 2, 'pattern': \"independent\"},\n",
    "            template={'data': {\n",
    "                'indicator': [{\n",
    "                    'title': {'text': filename},\n",
    "                    'mode': \"number+gauge\",\n",
    "                    'delta': {'reference': 90}}]\n",
    "                }\n",
    "            }\n",
    "        )\n",
    "        print(\"finish gauge plot\")\n",
    "\n",
    "        fig1 = go.Figure(data = [go.Pie(\n",
    "            labels = list(clean_dict.keys()),\n",
    "            values = list(clean_dict.values()),\n",
    "            title={'text': filename + \" Distrib subtype/clean Journals\"})])\n",
    "        fig2  = go.Figure(data = [go.Pie(\n",
    "            labels = list(unclean_dict.keys()),\n",
    "            values = list(unclean_dict.values()),\n",
    "            title={'text': filename + \" Distrib subtype/unclean Journals\"})])\n",
    "        print(\"prepare for writing\")\n",
    "        fig.write_html(output_dir + \"/charts/\" + filename + \".html\")\n",
    "        print(\"write fig\")\n",
    "        fig1.write_html(output_dir + \"/charts/\" + filename+\"_DistribClean\" + \".html\")\n",
    "        print(\"write fig1\")\n",
    "        fig2.write_html(output_dir + \"/charts/\" + filename+\"_DistribUnclean\" + \".html\")\n",
    "        print(\"write fig2\")"
   ],
   "outputs": [
    {
     "name": "stdout",
     "output_type": "stream",
     "text": [
      "AGRI.csv\n",
      "finish computations\n",
      "finish basic%plot\n",
      "finish gauge plot\n",
      "prepare for writing\n"
     ]
    },
    {
     "ename": "FileNotFoundError",
     "evalue": "[Errno 2] No such file or directory: 'data\\\\detailed_counts\\\\charts2\\\\AGRI.csv.html'",
     "output_type": "error",
     "traceback": [
      "\u001B[1;31m---------------------------------------------------------------------------\u001B[0m",
      "\u001B[1;31mFileNotFoundError\u001B[0m                         Traceback (most recent call last)",
      "Cell \u001B[1;32mIn[2], line 110\u001B[0m\n\u001B[0;32m    105\u001B[0m fig2  \u001B[38;5;241m=\u001B[39m go\u001B[38;5;241m.\u001B[39mFigure(data \u001B[38;5;241m=\u001B[39m [go\u001B[38;5;241m.\u001B[39mPie(\n\u001B[0;32m    106\u001B[0m     labels \u001B[38;5;241m=\u001B[39m \u001B[38;5;28mlist\u001B[39m(unclean_dict\u001B[38;5;241m.\u001B[39mkeys()),\n\u001B[0;32m    107\u001B[0m     values \u001B[38;5;241m=\u001B[39m \u001B[38;5;28mlist\u001B[39m(unclean_dict\u001B[38;5;241m.\u001B[39mvalues()),\n\u001B[0;32m    108\u001B[0m     title\u001B[38;5;241m=\u001B[39m{\u001B[38;5;124m'\u001B[39m\u001B[38;5;124mtext\u001B[39m\u001B[38;5;124m'\u001B[39m: filename \u001B[38;5;241m+\u001B[39m \u001B[38;5;124m\"\u001B[39m\u001B[38;5;124m Distrib subtype/unclean Journals\u001B[39m\u001B[38;5;124m\"\u001B[39m})])\n\u001B[0;32m    109\u001B[0m \u001B[38;5;28mprint\u001B[39m(\u001B[38;5;124m\"\u001B[39m\u001B[38;5;124mprepare for writing\u001B[39m\u001B[38;5;124m\"\u001B[39m)\n\u001B[1;32m--> 110\u001B[0m \u001B[43mfig\u001B[49m\u001B[38;5;241;43m.\u001B[39;49m\u001B[43mwrite_html\u001B[49m\u001B[43m(\u001B[49m\u001B[43moutput_dir\u001B[49m\u001B[43m \u001B[49m\u001B[38;5;241;43m+\u001B[39;49m\u001B[43m \u001B[49m\u001B[38;5;124;43m\"\u001B[39;49m\u001B[38;5;124;43m/charts2/\u001B[39;49m\u001B[38;5;124;43m\"\u001B[39;49m\u001B[43m \u001B[49m\u001B[38;5;241;43m+\u001B[39;49m\u001B[43m \u001B[49m\u001B[43mfilename\u001B[49m\u001B[43m \u001B[49m\u001B[38;5;241;43m+\u001B[39;49m\u001B[43m \u001B[49m\u001B[38;5;124;43m\"\u001B[39;49m\u001B[38;5;124;43m.html\u001B[39;49m\u001B[38;5;124;43m\"\u001B[39;49m\u001B[43m)\u001B[49m\n\u001B[0;32m    111\u001B[0m \u001B[38;5;28mprint\u001B[39m(\u001B[38;5;124m\"\u001B[39m\u001B[38;5;124mwrite fig\u001B[39m\u001B[38;5;124m\"\u001B[39m)\n\u001B[0;32m    112\u001B[0m fig1\u001B[38;5;241m.\u001B[39mwrite_html(output_dir \u001B[38;5;241m+\u001B[39m \u001B[38;5;124m\"\u001B[39m\u001B[38;5;124m/charts2/\u001B[39m\u001B[38;5;124m\"\u001B[39m \u001B[38;5;241m+\u001B[39m filename\u001B[38;5;241m+\u001B[39m\u001B[38;5;124m\"\u001B[39m\u001B[38;5;124m_DistribClean\u001B[39m\u001B[38;5;124m\"\u001B[39m \u001B[38;5;241m+\u001B[39m \u001B[38;5;124m\"\u001B[39m\u001B[38;5;124m.html\u001B[39m\u001B[38;5;124m\"\u001B[39m)\n",
      "File \u001B[1;32m~\\AppData\\Local\\Programs\\Python\\Python312\\Lib\\site-packages\\plotly\\basedatatypes.py:3714\u001B[0m, in \u001B[0;36mBaseFigure.write_html\u001B[1;34m(self, *args, **kwargs)\u001B[0m\n\u001B[0;32m   3605\u001B[0m \u001B[38;5;250m\u001B[39m\u001B[38;5;124;03m\"\"\"\u001B[39;00m\n\u001B[0;32m   3606\u001B[0m \u001B[38;5;124;03mWrite a figure to an HTML file representation\u001B[39;00m\n\u001B[0;32m   3607\u001B[0m \n\u001B[1;32m   (...)\u001B[0m\n\u001B[0;32m   3710\u001B[0m \u001B[38;5;124;03mNone\u001B[39;00m\n\u001B[0;32m   3711\u001B[0m \u001B[38;5;124;03m\"\"\"\u001B[39;00m\n\u001B[0;32m   3712\u001B[0m \u001B[38;5;28;01mimport\u001B[39;00m \u001B[38;5;21;01mplotly\u001B[39;00m\u001B[38;5;21;01m.\u001B[39;00m\u001B[38;5;21;01mio\u001B[39;00m \u001B[38;5;28;01mas\u001B[39;00m \u001B[38;5;21;01mpio\u001B[39;00m\n\u001B[1;32m-> 3714\u001B[0m \u001B[38;5;28;01mreturn\u001B[39;00m \u001B[43mpio\u001B[49m\u001B[38;5;241;43m.\u001B[39;49m\u001B[43mwrite_html\u001B[49m\u001B[43m(\u001B[49m\u001B[38;5;28;43mself\u001B[39;49m\u001B[43m,\u001B[49m\u001B[43m \u001B[49m\u001B[38;5;241;43m*\u001B[39;49m\u001B[43margs\u001B[49m\u001B[43m,\u001B[49m\u001B[43m \u001B[49m\u001B[38;5;241;43m*\u001B[39;49m\u001B[38;5;241;43m*\u001B[39;49m\u001B[43mkwargs\u001B[49m\u001B[43m)\u001B[49m\n",
      "File \u001B[1;32m~\\AppData\\Local\\Programs\\Python\\Python312\\Lib\\site-packages\\plotly\\io\\_html.py:535\u001B[0m, in \u001B[0;36mwrite_html\u001B[1;34m(fig, file, config, auto_play, include_plotlyjs, include_mathjax, post_script, full_html, animation_opts, validate, default_width, default_height, auto_open, div_id)\u001B[0m\n\u001B[0;32m    532\u001B[0m \u001B[38;5;66;03m# Write HTML string\u001B[39;00m\n\u001B[0;32m    533\u001B[0m \u001B[38;5;28;01mif\u001B[39;00m path \u001B[38;5;129;01mis\u001B[39;00m \u001B[38;5;129;01mnot\u001B[39;00m \u001B[38;5;28;01mNone\u001B[39;00m:\n\u001B[0;32m    534\u001B[0m     \u001B[38;5;66;03m# To use a different file encoding, pass a file descriptor\u001B[39;00m\n\u001B[1;32m--> 535\u001B[0m     \u001B[43mpath\u001B[49m\u001B[38;5;241;43m.\u001B[39;49m\u001B[43mwrite_text\u001B[49m\u001B[43m(\u001B[49m\u001B[43mhtml_str\u001B[49m\u001B[43m,\u001B[49m\u001B[43m \u001B[49m\u001B[38;5;124;43m\"\u001B[39;49m\u001B[38;5;124;43mutf-8\u001B[39;49m\u001B[38;5;124;43m\"\u001B[39;49m\u001B[43m)\u001B[49m\n\u001B[0;32m    536\u001B[0m \u001B[38;5;28;01melse\u001B[39;00m:\n\u001B[0;32m    537\u001B[0m     file\u001B[38;5;241m.\u001B[39mwrite(html_str)\n",
      "File \u001B[1;32m~\\AppData\\Local\\Programs\\Python\\Python312\\Lib\\pathlib.py:1047\u001B[0m, in \u001B[0;36mPath.write_text\u001B[1;34m(self, data, encoding, errors, newline)\u001B[0m\n\u001B[0;32m   1044\u001B[0m     \u001B[38;5;28;01mraise\u001B[39;00m \u001B[38;5;167;01mTypeError\u001B[39;00m(\u001B[38;5;124m'\u001B[39m\u001B[38;5;124mdata must be str, not \u001B[39m\u001B[38;5;132;01m%s\u001B[39;00m\u001B[38;5;124m'\u001B[39m \u001B[38;5;241m%\u001B[39m\n\u001B[0;32m   1045\u001B[0m                     data\u001B[38;5;241m.\u001B[39m\u001B[38;5;18m__class__\u001B[39m\u001B[38;5;241m.\u001B[39m\u001B[38;5;18m__name__\u001B[39m)\n\u001B[0;32m   1046\u001B[0m encoding \u001B[38;5;241m=\u001B[39m io\u001B[38;5;241m.\u001B[39mtext_encoding(encoding)\n\u001B[1;32m-> 1047\u001B[0m \u001B[38;5;28;01mwith\u001B[39;00m \u001B[38;5;28;43mself\u001B[39;49m\u001B[38;5;241;43m.\u001B[39;49m\u001B[43mopen\u001B[49m\u001B[43m(\u001B[49m\u001B[43mmode\u001B[49m\u001B[38;5;241;43m=\u001B[39;49m\u001B[38;5;124;43m'\u001B[39;49m\u001B[38;5;124;43mw\u001B[39;49m\u001B[38;5;124;43m'\u001B[39;49m\u001B[43m,\u001B[49m\u001B[43m \u001B[49m\u001B[43mencoding\u001B[49m\u001B[38;5;241;43m=\u001B[39;49m\u001B[43mencoding\u001B[49m\u001B[43m,\u001B[49m\u001B[43m \u001B[49m\u001B[43merrors\u001B[49m\u001B[38;5;241;43m=\u001B[39;49m\u001B[43merrors\u001B[49m\u001B[43m,\u001B[49m\u001B[43m \u001B[49m\u001B[43mnewline\u001B[49m\u001B[38;5;241;43m=\u001B[39;49m\u001B[43mnewline\u001B[49m\u001B[43m)\u001B[49m \u001B[38;5;28;01mas\u001B[39;00m f:\n\u001B[0;32m   1048\u001B[0m     \u001B[38;5;28;01mreturn\u001B[39;00m f\u001B[38;5;241m.\u001B[39mwrite(data)\n",
      "File \u001B[1;32m~\\AppData\\Local\\Programs\\Python\\Python312\\Lib\\pathlib.py:1013\u001B[0m, in \u001B[0;36mPath.open\u001B[1;34m(self, mode, buffering, encoding, errors, newline)\u001B[0m\n\u001B[0;32m   1011\u001B[0m \u001B[38;5;28;01mif\u001B[39;00m \u001B[38;5;124m\"\u001B[39m\u001B[38;5;124mb\u001B[39m\u001B[38;5;124m\"\u001B[39m \u001B[38;5;129;01mnot\u001B[39;00m \u001B[38;5;129;01min\u001B[39;00m mode:\n\u001B[0;32m   1012\u001B[0m     encoding \u001B[38;5;241m=\u001B[39m io\u001B[38;5;241m.\u001B[39mtext_encoding(encoding)\n\u001B[1;32m-> 1013\u001B[0m \u001B[38;5;28;01mreturn\u001B[39;00m \u001B[43mio\u001B[49m\u001B[38;5;241;43m.\u001B[39;49m\u001B[43mopen\u001B[49m\u001B[43m(\u001B[49m\u001B[38;5;28;43mself\u001B[39;49m\u001B[43m,\u001B[49m\u001B[43m \u001B[49m\u001B[43mmode\u001B[49m\u001B[43m,\u001B[49m\u001B[43m \u001B[49m\u001B[43mbuffering\u001B[49m\u001B[43m,\u001B[49m\u001B[43m \u001B[49m\u001B[43mencoding\u001B[49m\u001B[43m,\u001B[49m\u001B[43m \u001B[49m\u001B[43merrors\u001B[49m\u001B[43m,\u001B[49m\u001B[43m \u001B[49m\u001B[43mnewline\u001B[49m\u001B[43m)\u001B[49m\n",
      "\u001B[1;31mFileNotFoundError\u001B[0m: [Errno 2] No such file or directory: 'data\\\\detailed_counts\\\\charts2\\\\AGRI.csv.html'"
     ]
    }
   ],
   "execution_count": 2
  },
  {
   "cell_type": "code",
   "execution_count": null,
   "metadata": {
    "ExecuteTime": {
     "end_time": "2024-11-22T12:02:29.889605500Z",
     "start_time": "2024-11-22T09:39:35.541133Z"
    }
   },
   "outputs": [
    {
     "name": "stdout",
     "output_type": "stream",
     "text": [
      "{'Article': 116, 'Review': 11, 'Editorial': 1, 'Conference Paper': 1}\n"
     ]
    }
   ],
   "source": [
    "overall_percentage_pub = overall_clean_journals / overall_nb_pub * 100\n",
    "overall_percentage_journal = overall_clean_journals / overall_nb_journals * 100\n",
    "\n",
    "fig1 = go.Figure()\n",
    "fig1.add_trace(go.Indicator(\n",
    "    mode=\"gauge+number\",\n",
    "    value=overall_percentage_pub,\n",
    "    title={'text': \"Pourcentage pour les publications\"},\n",
    "    gauge={'axis': {'range': [0, 100]}, 'bar': {'color': \"#4CAF50\"}},\n",
    "    domain={'row': 0, 'column': 0}\n",
    "))\n",
    "fig1.add_trace(go.Indicator(\n",
    "    mode=\"gauge+number\",\n",
    "    value=overall_percentage_journal,\n",
    "    title={'text': \"Pourcentage pour les journaux\"},\n",
    "    gauge={'axis': {'range': [0, 100]}, 'bar': {'color': \"#4CAF50\"}},\n",
    "    domain={'row': 0, 'column': 1}\n",
    "))\n",
    "fig1.update_layout(\n",
    "    grid={'rows': 1, 'columns': 2, 'pattern': \"independent\"},\n",
    "    template={'data': {\n",
    "        'indicator': [{\n",
    "            'mode': \"number+gauge\",\n",
    "            'delta': {'reference': 120}}]\n",
    "        }\n",
    "    }\n",
    ")\n",
    "fig1.show()\n",
    "fig1.write_html(output_dir + \"/charts2/overall_journal.html\")"
   ]
  }
 ],
 "metadata": {
  "kernelspec": {
   "display_name": "Python 3",
   "language": "python",
   "name": "python3"
  },
  "language_info": {
   "codemirror_mode": {
    "name": "ipython",
    "version": 3
   },
   "file_extension": ".py",
   "mimetype": "text/x-python",
   "name": "python",
   "nbconvert_exporter": "python",
   "pygments_lexer": "ipython3",
   "version": "3.11.9"
  }
 },
 "nbformat": 4,
 "nbformat_minor": 2
}
