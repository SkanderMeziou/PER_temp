{
 "cells": [
  {
   "cell_type": "markdown",
   "metadata": {},
   "source": [
    "# Clean csv generator"
   ]
  },
  {
   "cell_type": "code",
   "execution_count": 5,
   "metadata": {},
   "outputs": [
    {
     "name": "stdout",
     "output_type": "stream",
     "text": [
      "Traitement terminé. Les fichiers nettoyés sont disponibles dans le dossier ./data/cleanScopus.\n"
     ]
    }
   ],
   "source": [
    "import os\n",
    "import pandas as pd\n",
    "\n",
    "# Dossiers\n",
    "input_dir = './data/scopus'\n",
    "output_dir = './data/cleanScopus'\n",
    "\n",
    "\n",
    "for filename in os.listdir(input_dir):\n",
    "    if filename.endswith('.csv') and filename != \"MEDI.csv\":\n",
    "        input_path = os.path.join(input_dir, filename)\n",
    "        \n",
    "        df = pd.read_csv(input_path)\n",
    "        \n",
    "        clean_df = df[(df[\"prism:aggregationType\"] == \"Journal\") & \n",
    "                      (df[\"prism:issn\"].notnull() | df[\"prism:eIssn\"].notnull())]\n",
    "        \n",
    "        output_path = os.path.join(output_dir, f\"clean_{filename}\")\n",
    "        \n",
    "        clean_df.to_csv(output_path, index=False)\n",
    "        \n",
    "print(\"Traitement terminé. Les fichiers nettoyés sont disponibles dans le dossier ./data/cleanScopus.\")\n",
    "\n"
   ]
  }
 ],
 "metadata": {
  "kernelspec": {
   "display_name": "Python 3",
   "language": "python",
   "name": "python3"
  },
  "language_info": {
   "codemirror_mode": {
    "name": "ipython",
    "version": 3
   },
   "file_extension": ".py",
   "mimetype": "text/x-python",
   "name": "python",
   "nbconvert_exporter": "python",
   "pygments_lexer": "ipython3",
   "version": "3.11.9"
  }
 },
 "nbformat": 4,
 "nbformat_minor": 2
}
