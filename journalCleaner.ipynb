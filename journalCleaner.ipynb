{
 "cells": [
  {
   "cell_type": "markdown",
   "metadata": {},
   "source": [
    "# Clean csv generator"
   ]
  },
  {
   "cell_type": "code",
   "metadata": {
    "ExecuteTime": {
     "end_time": "2024-12-13T09:33:43.488202Z",
     "start_time": "2024-12-13T09:33:43.481620Z"
    }
   },
   "source": [
    "import os\n",
    "import pandas as pd"
   ],
   "outputs": [],
   "execution_count": 3
  },
  {
   "cell_type": "code",
   "metadata": {
    "ExecuteTime": {
     "end_time": "2024-12-13T09:34:42.130152Z",
     "start_time": "2024-12-13T09:33:43.521143Z"
    }
   },
   "source": [
    "# Dossiers\n",
    "input_dir = './data/scopus'\n",
    "output_dir = './data/cleanScopus/articles'\n",
    "output_file = './detailed_counts/articles_count.csv'\n",
    "overall_nb_pub = 0\n",
    "overall_nb_journals = 0\n",
    "overall_nb_clean_journals = 0\n",
    "overall_nb_clean_articles = 0\n",
    "\n",
    "with open(output_file, 'w') as f:\n",
    "    f.write('discipline,nb_pub,nb_journals_pub,nb_clean_journals_pub,nb_clean_articles\\n')\n",
    "\n",
    "for filename in os.listdir(input_dir):\n",
    "    if filename.endswith('MEDI.csv') and filename != \"MEDI.csv.broken\":\n",
    "        print(filename)\n",
    "        input_path = os.path.join(input_dir, filename)\n",
    "\n",
    "        df = pd.read_csv(input_path)\n",
    "        journals_df = df[df['prism:aggregationType'] == 'Journal']\n",
    "        clean_journal_df = journals_df[journals_df['prism:issn'].notnull() | journals_df['prism:eIssn'].notnull()]\n",
    "        clean_articles_df = clean_journal_df[clean_journal_df['subtypeDescription'] == 'Article']\n",
    "\n",
    "        discipline = filename.split('.')[0]\n",
    "        output_path = os.path.join(output_dir, f\"{discipline}_articles.csv\")\n",
    "        clean_articles_df.to_csv(output_path, index=False)\n",
    "        output_path = os.path.join(output_dir, f\"{discipline}_journals.csv\")\n",
    "        clean_journal_df.to_csv(output_path, index=False)\n",
    "        with open(output_file, 'a') as f:\n",
    "            f.write(f'{discipline},{len(df)},{len(journals_df)},{len(clean_journal_df)},{len(clean_articles_df)}\\n')\n",
    "\n",
    "        overall_nb_pub += len(df)\n",
    "        overall_nb_journals += len(journals_df)\n",
    "        overall_nb_clean_journals += len(clean_journal_df)\n",
    "        overall_nb_clean_articles += len(clean_articles_df)\n",
    "\n",
    "with open(output_file, 'a') as f:\n",
    "    f.write(f'overall,{overall_nb_pub},{overall_nb_journals},{overall_nb_clean_journals},{overall_nb_clean_articles}\\n')\n",
    "\n",
    "print(\"Traitement terminé. Les fichiers nettoyés sont disponibles dans le dossier ./data/cleanScopus.\")"
   ],
   "outputs": [
    {
     "name": "stdout",
     "output_type": "stream",
     "text": [
      "MEDI.csv\n",
      "Traitement terminé. Les fichiers nettoyés sont disponibles dans le dossier ./data/cleanScopus.\n"
     ]
    }
   ],
   "execution_count": 4
  },
  {
   "cell_type": "code",
   "metadata": {
    "ExecuteTime": {
     "end_time": "2024-12-13T09:34:42.152166Z",
     "start_time": "2024-12-13T09:34:42.143980Z"
    }
   },
   "source": "",
   "outputs": [],
   "execution_count": null
  }
 ],
 "metadata": {
  "kernelspec": {
   "display_name": "Python 3",
   "language": "python",
   "name": "python3"
  },
  "language_info": {
   "codemirror_mode": {
    "name": "ipython",
    "version": 3
   },
   "file_extension": ".py",
   "mimetype": "text/x-python",
   "name": "python",
   "nbconvert_exporter": "python",
   "pygments_lexer": "ipython3",
   "version": "3.11.9"
  }
 },
 "nbformat": 4,
 "nbformat_minor": 2
}
