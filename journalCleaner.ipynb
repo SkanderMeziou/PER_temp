{
 "cells": [
  {
   "cell_type": "markdown",
   "metadata": {},
   "source": [
    "# Clean csv generator"
   ]
  },
  {
   "cell_type": "code",
   "execution_count": 3,
   "metadata": {
    "ExecuteTime": {
     "end_time": "2024-11-22T09:39:07.866860Z",
     "start_time": "2024-11-22T09:39:07.859119Z"
    }
   },
   "outputs": [],
   "source": [
    "import plotly.graph_objects as go\n",
    "import os\n",
    "import pandas as pd\n",
    "from plotly.subplots import make_subplots"
   ]
  },
  {
   "cell_type": "code",
   "execution_count": null,
   "metadata": {
    "ExecuteTime": {
     "end_time": "2024-11-22T09:39:35.495155Z",
     "start_time": "2024-11-22T09:39:07.936152Z"
    }
   },
   "outputs": [
    {
     "name": "stdout",
     "output_type": "stream",
     "text": [
      "MULT.csv\n",
      "finish computations\n",
      "finish basic%plot\n",
      "finish gauge plot\n",
      "prepare for writing\n",
      "write fig\n",
      "write fig1\n",
      "write fig2\n",
      "Pourcentage pour publis :93.65587772533154\n",
      "NEUR.csv\n",
      "finish computations\n",
      "finish basic%plot\n",
      "finish gauge plot\n",
      "prepare for writing\n",
      "write fig\n",
      "write fig1\n",
      "write fig2\n",
      "Pourcentage pour publis :94.14099155458243\n",
      "NURS.csv\n",
      "finish computations\n",
      "finish basic%plot\n",
      "finish gauge plot\n",
      "prepare for writing\n",
      "write fig\n",
      "write fig1\n",
      "write fig2\n",
      "Pourcentage pour publis :98.8482186432406\n",
      "PHAR.csv\n",
      "finish computations\n",
      "finish basic%plot\n",
      "finish gauge plot\n",
      "prepare for writing\n",
      "write fig\n",
      "write fig1\n",
      "write fig2\n",
      "Pourcentage pour publis :98.14378451880896\n",
      "PHYS.csv\n",
      "finish computations\n",
      "finish basic%plot\n",
      "finish gauge plot\n",
      "prepare for writing\n",
      "write fig\n",
      "write fig1\n",
      "write fig2\n",
      "Pourcentage pour publis :82.81710590737958\n",
      "PSYC.csv\n",
      "finish computations\n",
      "finish basic%plot\n",
      "finish gauge plot\n",
      "prepare for writing\n",
      "write fig\n",
      "write fig1\n",
      "write fig2\n",
      "Pourcentage pour publis :94.98724136870908\n",
      "SOCI.csv\n",
      "finish computations\n",
      "finish basic%plot\n",
      "finish gauge plot\n",
      "prepare for writing\n",
      "write fig\n",
      "write fig1\n",
      "write fig2\n",
      "Pourcentage pour publis :77.36880786275285\n",
      "VETE.csv\n",
      "finish computations\n",
      "finish basic%plot\n",
      "finish gauge plot\n",
      "prepare for writing\n",
      "write fig\n",
      "write fig1\n",
      "write fig2\n",
      "Pourcentage pour publis :98.19792953606272\n"
     ]
    },
    {
     "data": {
      "application/vnd.plotly.v1+json": {
       "config": {
        "plotlyServerURL": "https://plot.ly"
       },
       "data": [
        {
         "domain": {
          "column": 0,
          "row": 0
         },
         "gauge": {
          "axis": {
           "range": [
            0,
            100
           ]
          },
          "bar": {
           "color": "#4CAF50"
          }
         },
         "mode": "gauge+number",
         "title": {
          "text": "Pourcentage pour les publications"
         },
         "type": "indicator",
         "value": 86.52283619445735
        },
        {
         "domain": {
          "column": 1,
          "row": 0
         },
         "gauge": {
          "axis": {
           "range": [
            0,
            100
           ]
          },
          "bar": {
           "color": "#4CAF50"
          }
         },
         "mode": "gauge+number",
         "title": {
          "text": "Pourcentage pour les journaux"
         },
         "type": "indicator",
         "value": 99.79429189392515
        }
       ],
       "layout": {
        "grid": {
         "columns": 2,
         "pattern": "independent",
         "rows": 1
        },
        "template": {
         "data": {
          "bar": [
           {
            "error_x": {
             "color": "#2a3f5f"
            },
            "error_y": {
             "color": "#2a3f5f"
            },
            "marker": {
             "line": {
              "color": "#E5ECF6",
              "width": 0.5
             },
             "pattern": {
              "fillmode": "overlay",
              "size": 10,
              "solidity": 0.2
             }
            },
            "type": "bar"
           }
          ],
          "barpolar": [
           {
            "marker": {
             "line": {
              "color": "#E5ECF6",
              "width": 0.5
             },
             "pattern": {
              "fillmode": "overlay",
              "size": 10,
              "solidity": 0.2
             }
            },
            "type": "barpolar"
           }
          ],
          "carpet": [
           {
            "aaxis": {
             "endlinecolor": "#2a3f5f",
             "gridcolor": "white",
             "linecolor": "white",
             "minorgridcolor": "white",
             "startlinecolor": "#2a3f5f"
            },
            "baxis": {
             "endlinecolor": "#2a3f5f",
             "gridcolor": "white",
             "linecolor": "white",
             "minorgridcolor": "white",
             "startlinecolor": "#2a3f5f"
            },
            "type": "carpet"
           }
          ],
          "choropleth": [
           {
            "colorbar": {
             "outlinewidth": 0,
             "ticks": ""
            },
            "type": "choropleth"
           }
          ],
          "contour": [
           {
            "colorbar": {
             "outlinewidth": 0,
             "ticks": ""
            },
            "colorscale": [
             [
              0,
              "#0d0887"
             ],
             [
              0.1111111111111111,
              "#46039f"
             ],
             [
              0.2222222222222222,
              "#7201a8"
             ],
             [
              0.3333333333333333,
              "#9c179e"
             ],
             [
              0.4444444444444444,
              "#bd3786"
             ],
             [
              0.5555555555555556,
              "#d8576b"
             ],
             [
              0.6666666666666666,
              "#ed7953"
             ],
             [
              0.7777777777777778,
              "#fb9f3a"
             ],
             [
              0.8888888888888888,
              "#fdca26"
             ],
             [
              1,
              "#f0f921"
             ]
            ],
            "type": "contour"
           }
          ],
          "contourcarpet": [
           {
            "colorbar": {
             "outlinewidth": 0,
             "ticks": ""
            },
            "type": "contourcarpet"
           }
          ],
          "heatmap": [
           {
            "colorbar": {
             "outlinewidth": 0,
             "ticks": ""
            },
            "colorscale": [
             [
              0,
              "#0d0887"
             ],
             [
              0.1111111111111111,
              "#46039f"
             ],
             [
              0.2222222222222222,
              "#7201a8"
             ],
             [
              0.3333333333333333,
              "#9c179e"
             ],
             [
              0.4444444444444444,
              "#bd3786"
             ],
             [
              0.5555555555555556,
              "#d8576b"
             ],
             [
              0.6666666666666666,
              "#ed7953"
             ],
             [
              0.7777777777777778,
              "#fb9f3a"
             ],
             [
              0.8888888888888888,
              "#fdca26"
             ],
             [
              1,
              "#f0f921"
             ]
            ],
            "type": "heatmap"
           }
          ],
          "heatmapgl": [
           {
            "colorbar": {
             "outlinewidth": 0,
             "ticks": ""
            },
            "colorscale": [
             [
              0,
              "#0d0887"
             ],
             [
              0.1111111111111111,
              "#46039f"
             ],
             [
              0.2222222222222222,
              "#7201a8"
             ],
             [
              0.3333333333333333,
              "#9c179e"
             ],
             [
              0.4444444444444444,
              "#bd3786"
             ],
             [
              0.5555555555555556,
              "#d8576b"
             ],
             [
              0.6666666666666666,
              "#ed7953"
             ],
             [
              0.7777777777777778,
              "#fb9f3a"
             ],
             [
              0.8888888888888888,
              "#fdca26"
             ],
             [
              1,
              "#f0f921"
             ]
            ],
            "type": "heatmapgl"
           }
          ],
          "histogram": [
           {
            "marker": {
             "pattern": {
              "fillmode": "overlay",
              "size": 10,
              "solidity": 0.2
             }
            },
            "type": "histogram"
           }
          ],
          "histogram2d": [
           {
            "colorbar": {
             "outlinewidth": 0,
             "ticks": ""
            },
            "colorscale": [
             [
              0,
              "#0d0887"
             ],
             [
              0.1111111111111111,
              "#46039f"
             ],
             [
              0.2222222222222222,
              "#7201a8"
             ],
             [
              0.3333333333333333,
              "#9c179e"
             ],
             [
              0.4444444444444444,
              "#bd3786"
             ],
             [
              0.5555555555555556,
              "#d8576b"
             ],
             [
              0.6666666666666666,
              "#ed7953"
             ],
             [
              0.7777777777777778,
              "#fb9f3a"
             ],
             [
              0.8888888888888888,
              "#fdca26"
             ],
             [
              1,
              "#f0f921"
             ]
            ],
            "type": "histogram2d"
           }
          ],
          "histogram2dcontour": [
           {
            "colorbar": {
             "outlinewidth": 0,
             "ticks": ""
            },
            "colorscale": [
             [
              0,
              "#0d0887"
             ],
             [
              0.1111111111111111,
              "#46039f"
             ],
             [
              0.2222222222222222,
              "#7201a8"
             ],
             [
              0.3333333333333333,
              "#9c179e"
             ],
             [
              0.4444444444444444,
              "#bd3786"
             ],
             [
              0.5555555555555556,
              "#d8576b"
             ],
             [
              0.6666666666666666,
              "#ed7953"
             ],
             [
              0.7777777777777778,
              "#fb9f3a"
             ],
             [
              0.8888888888888888,
              "#fdca26"
             ],
             [
              1,
              "#f0f921"
             ]
            ],
            "type": "histogram2dcontour"
           }
          ],
          "indicator": [
           {
            "delta": {
             "reference": 120
            },
            "mode": "number+gauge",
            "type": "indicator"
           }
          ],
          "mesh3d": [
           {
            "colorbar": {
             "outlinewidth": 0,
             "ticks": ""
            },
            "type": "mesh3d"
           }
          ],
          "parcoords": [
           {
            "line": {
             "colorbar": {
              "outlinewidth": 0,
              "ticks": ""
             }
            },
            "type": "parcoords"
           }
          ],
          "pie": [
           {
            "automargin": true,
            "type": "pie"
           }
          ],
          "scatter": [
           {
            "fillpattern": {
             "fillmode": "overlay",
             "size": 10,
             "solidity": 0.2
            },
            "type": "scatter"
           }
          ],
          "scatter3d": [
           {
            "line": {
             "colorbar": {
              "outlinewidth": 0,
              "ticks": ""
             }
            },
            "marker": {
             "colorbar": {
              "outlinewidth": 0,
              "ticks": ""
             }
            },
            "type": "scatter3d"
           }
          ],
          "scattercarpet": [
           {
            "marker": {
             "colorbar": {
              "outlinewidth": 0,
              "ticks": ""
             }
            },
            "type": "scattercarpet"
           }
          ],
          "scattergeo": [
           {
            "marker": {
             "colorbar": {
              "outlinewidth": 0,
              "ticks": ""
             }
            },
            "type": "scattergeo"
           }
          ],
          "scattergl": [
           {
            "marker": {
             "colorbar": {
              "outlinewidth": 0,
              "ticks": ""
             }
            },
            "type": "scattergl"
           }
          ],
          "scattermapbox": [
           {
            "marker": {
             "colorbar": {
              "outlinewidth": 0,
              "ticks": ""
             }
            },
            "type": "scattermapbox"
           }
          ],
          "scatterpolar": [
           {
            "marker": {
             "colorbar": {
              "outlinewidth": 0,
              "ticks": ""
             }
            },
            "type": "scatterpolar"
           }
          ],
          "scatterpolargl": [
           {
            "marker": {
             "colorbar": {
              "outlinewidth": 0,
              "ticks": ""
             }
            },
            "type": "scatterpolargl"
           }
          ],
          "scatterternary": [
           {
            "marker": {
             "colorbar": {
              "outlinewidth": 0,
              "ticks": ""
             }
            },
            "type": "scatterternary"
           }
          ],
          "surface": [
           {
            "colorbar": {
             "outlinewidth": 0,
             "ticks": ""
            },
            "colorscale": [
             [
              0,
              "#0d0887"
             ],
             [
              0.1111111111111111,
              "#46039f"
             ],
             [
              0.2222222222222222,
              "#7201a8"
             ],
             [
              0.3333333333333333,
              "#9c179e"
             ],
             [
              0.4444444444444444,
              "#bd3786"
             ],
             [
              0.5555555555555556,
              "#d8576b"
             ],
             [
              0.6666666666666666,
              "#ed7953"
             ],
             [
              0.7777777777777778,
              "#fb9f3a"
             ],
             [
              0.8888888888888888,
              "#fdca26"
             ],
             [
              1,
              "#f0f921"
             ]
            ],
            "type": "surface"
           }
          ],
          "table": [
           {
            "cells": {
             "fill": {
              "color": "#EBF0F8"
             },
             "line": {
              "color": "white"
             }
            },
            "header": {
             "fill": {
              "color": "#C8D4E3"
             },
             "line": {
              "color": "white"
             }
            },
            "type": "table"
           }
          ]
         },
         "layout": {
          "annotationdefaults": {
           "arrowcolor": "#2a3f5f",
           "arrowhead": 0,
           "arrowwidth": 1
          },
          "autotypenumbers": "strict",
          "coloraxis": {
           "colorbar": {
            "outlinewidth": 0,
            "ticks": ""
           }
          },
          "colorscale": {
           "diverging": [
            [
             0,
             "#8e0152"
            ],
            [
             0.1,
             "#c51b7d"
            ],
            [
             0.2,
             "#de77ae"
            ],
            [
             0.3,
             "#f1b6da"
            ],
            [
             0.4,
             "#fde0ef"
            ],
            [
             0.5,
             "#f7f7f7"
            ],
            [
             0.6,
             "#e6f5d0"
            ],
            [
             0.7,
             "#b8e186"
            ],
            [
             0.8,
             "#7fbc41"
            ],
            [
             0.9,
             "#4d9221"
            ],
            [
             1,
             "#276419"
            ]
           ],
           "sequential": [
            [
             0,
             "#0d0887"
            ],
            [
             0.1111111111111111,
             "#46039f"
            ],
            [
             0.2222222222222222,
             "#7201a8"
            ],
            [
             0.3333333333333333,
             "#9c179e"
            ],
            [
             0.4444444444444444,
             "#bd3786"
            ],
            [
             0.5555555555555556,
             "#d8576b"
            ],
            [
             0.6666666666666666,
             "#ed7953"
            ],
            [
             0.7777777777777778,
             "#fb9f3a"
            ],
            [
             0.8888888888888888,
             "#fdca26"
            ],
            [
             1,
             "#f0f921"
            ]
           ],
           "sequentialminus": [
            [
             0,
             "#0d0887"
            ],
            [
             0.1111111111111111,
             "#46039f"
            ],
            [
             0.2222222222222222,
             "#7201a8"
            ],
            [
             0.3333333333333333,
             "#9c179e"
            ],
            [
             0.4444444444444444,
             "#bd3786"
            ],
            [
             0.5555555555555556,
             "#d8576b"
            ],
            [
             0.6666666666666666,
             "#ed7953"
            ],
            [
             0.7777777777777778,
             "#fb9f3a"
            ],
            [
             0.8888888888888888,
             "#fdca26"
            ],
            [
             1,
             "#f0f921"
            ]
           ]
          },
          "colorway": [
           "#636efa",
           "#EF553B",
           "#00cc96",
           "#ab63fa",
           "#FFA15A",
           "#19d3f3",
           "#FF6692",
           "#B6E880",
           "#FF97FF",
           "#FECB52"
          ],
          "font": {
           "color": "#2a3f5f"
          },
          "geo": {
           "bgcolor": "white",
           "lakecolor": "white",
           "landcolor": "#E5ECF6",
           "showlakes": true,
           "showland": true,
           "subunitcolor": "white"
          },
          "hoverlabel": {
           "align": "left"
          },
          "hovermode": "closest",
          "mapbox": {
           "style": "light"
          },
          "paper_bgcolor": "white",
          "plot_bgcolor": "#E5ECF6",
          "polar": {
           "angularaxis": {
            "gridcolor": "white",
            "linecolor": "white",
            "ticks": ""
           },
           "bgcolor": "#E5ECF6",
           "radialaxis": {
            "gridcolor": "white",
            "linecolor": "white",
            "ticks": ""
           }
          },
          "scene": {
           "xaxis": {
            "backgroundcolor": "#E5ECF6",
            "gridcolor": "white",
            "gridwidth": 2,
            "linecolor": "white",
            "showbackground": true,
            "ticks": "",
            "zerolinecolor": "white"
           },
           "yaxis": {
            "backgroundcolor": "#E5ECF6",
            "gridcolor": "white",
            "gridwidth": 2,
            "linecolor": "white",
            "showbackground": true,
            "ticks": "",
            "zerolinecolor": "white"
           },
           "zaxis": {
            "backgroundcolor": "#E5ECF6",
            "gridcolor": "white",
            "gridwidth": 2,
            "linecolor": "white",
            "showbackground": true,
            "ticks": "",
            "zerolinecolor": "white"
           }
          },
          "shapedefaults": {
           "line": {
            "color": "#2a3f5f"
           }
          },
          "ternary": {
           "aaxis": {
            "gridcolor": "white",
            "linecolor": "white",
            "ticks": ""
           },
           "baxis": {
            "gridcolor": "white",
            "linecolor": "white",
            "ticks": ""
           },
           "bgcolor": "#E5ECF6",
           "caxis": {
            "gridcolor": "white",
            "linecolor": "white",
            "ticks": ""
           }
          },
          "title": {
           "x": 0.05
          },
          "xaxis": {
           "automargin": true,
           "gridcolor": "white",
           "linecolor": "white",
           "ticks": "",
           "title": {
            "standoff": 15
           },
           "zerolinecolor": "white",
           "zerolinewidth": 2
          },
          "yaxis": {
           "automargin": true,
           "gridcolor": "white",
           "linecolor": "white",
           "ticks": "",
           "title": {
            "standoff": 15
           },
           "zerolinecolor": "white",
           "zerolinewidth": 2
          }
         }
        }
       }
      }
     },
     "metadata": {},
     "output_type": "display_data"
    }
   ],
   "source": [
    "# Dossiers\n",
    "input_dir = './data/scopus'\n",
    "output_dir = './data/cleanScopus'\n",
    "\n",
    "overall_nb_pub = 0\n",
    "overall_nb_journals = 0\n",
    "overall_clean_journals = 0\n",
    "overall_unclean_journals = 0\n",
    "\n",
    "overall_clean_dict ={}\n",
    "overall_unclean_dict = {}\n",
    "\n",
    "for filename in os.listdir(input_dir):\n",
    "    if filename.endswith('.csv') and filename != \"MEDI.csv.broken\":\n",
    "        print(filename)\n",
    "        input_path = os.path.join(input_dir, filename)\n",
    "        fig = go.Figure()\n",
    "\n",
    "        nb_pub = 0\n",
    "        nb_journals = 0\n",
    "        nb_clean_journals = 0\n",
    "        nb_unclean_journals =0\n",
    "        clean_dict = {}\n",
    "        unclean_dict = {}\n",
    "\n",
    "        df = pd.read_csv(input_path)\n",
    "        for ind, row in df.iterrows() :\n",
    "            \n",
    "            nb_pub += 1\n",
    "            if row[\"prism:aggregationType\"] == \"Journal\" :\n",
    "                nb_journals += 1\n",
    "                subtype = row[\"subtypeDescription\"]\n",
    "                issn = str(row[\"prism:issn\"])\n",
    "                e_issn = str(row[\"prism:eIssn\"])\n",
    "                if (issn and issn.strip() and issn.lower() != \"nan\") or  (e_issn and e_issn.strip() and e_issn.lower() != \"nan\") :\n",
    "                    if subtype not in overall_clean_dict :\n",
    "                        overall_clean_dict[subtype] = 0\n",
    "                    if subtype not in clean_dict :\n",
    "                        clean_dict[subtype] = 0\n",
    "                    nb_clean_journals += 1\n",
    "                    clean_dict[subtype] += 1\n",
    "                    overall_clean_journals += 1\n",
    "                else :\n",
    "                    if subtype not in overall_unclean_dict :\n",
    "                        overall_unclean_dict[subtype] = 0\n",
    "                    if subtype not in unclean_dict :\n",
    "                        unclean_dict[subtype] = 0\n",
    "                    nb_unclean_journals += 1\n",
    "                    unclean_dict[subtype] += 1\n",
    "                    overall_unclean_journals += 1\n",
    "\n",
    "        overall_nb_pub += nb_pub\n",
    "        overall_nb_journals += nb_journals\n",
    "        print(\"finish computations\")\n",
    "\n",
    "        # output_path = os.path.join(output_dir, f\"clean_{filename}\")\n",
    "        #\n",
    "        # clean_journal_df.to_csv(output_path, index=False)\n",
    "\n",
    "        # Créer un graphique en jauge pour afficher le pourcentage de journaux nettoyés\n",
    "        pub_percentage = nb_clean_journals / nb_pub * 100\n",
    "        journal_percentage = nb_clean_journals / nb_journals * 100\n",
    "\n",
    "        fig.add_trace(go.Indicator(\n",
    "            value=pub_percentage,\n",
    "            gauge={'axis': {'range': [0, 100]}, 'bar': {'color': \"#4CAF50\"}},\n",
    "            title={'text': filename + \" % sur les publications\"},\n",
    "            domain={'row': 0, 'column': 0}))\n",
    "        fig.add_trace(go.Indicator(\n",
    "            value=journal_percentage,\n",
    "            gauge={'axis': {'range': [0, 100]}, 'bar': {'color': \"#4CAF50\"}},\n",
    "            title={'text': filename + \" % sur les journaux\"},\n",
    "            domain={'row': 0, 'column': 1}))\n",
    "        print(\"finish basic%plot\")\n",
    "        # fig = go.Figure(data=[go.Pie(labels=labels, values=values)])\n",
    "        if \"Article\" not in clean_dict:\n",
    "            clean_dict[\"Article\"] = 0\n",
    "        if \"Article\" not in unclean_dict:\n",
    "            unclean_dict[\"Article\"] = 0\n",
    "\n",
    "        \n",
    "\n",
    "        clean_articles = clean_dict[\"Article\"]\n",
    "        unclean_articles = unclean_dict[\"Article\"]\n",
    "        fig.add_trace(go.Indicator(\n",
    "            value=sum([value for (key,value) in clean_dict.items() if key!=\"Article\"])/(nb_journals - clean_articles - unclean_articles)*100,\n",
    "            gauge={'axis': {'range': [0, 100]}, 'bar': {'color': \"#4CAF50\"}},\n",
    "            title={'text': filename + \" % Journaux non Articles propres\"},\n",
    "            domain={'row': 1, 'column': 0}))\n",
    "        fig.add_trace(go.Indicator(\n",
    "            value=clean_articles/(clean_articles + unclean_articles)*100,\n",
    "            gauge={'axis': {'range': [0, 100]}, 'bar': {'color': \"#4CAF50\"}},\n",
    "            title={'text': filename + \" % Journaux Articles propres\"},\n",
    "            domain={'row': 1, 'column': 1}))\n",
    "        fig.update_layout(\n",
    "            grid={'rows': 2, 'columns': 2, 'pattern': \"independent\"},\n",
    "            template={'data': {\n",
    "                'indicator': [{\n",
    "                    'title': {'text': filename},\n",
    "                    'mode': \"number+gauge\",\n",
    "                    'delta': {'reference': 90}}]\n",
    "                }\n",
    "            }\n",
    "        )\n",
    "        print(\"finish gauge plot\")\n",
    "        fig1 = go.Figure(data = [go.Pie(\n",
    "            labels = list(clean_dict.keys()),\n",
    "            values = list(clean_dict.values()),\n",
    "            title={'text': filename + \" Distrib subtype/clean Journals\"})])\n",
    "        fig2  = go.Figure(data = [go.Pie(\n",
    "            labels = list(unclean_dict.keys()),\n",
    "            values = list(unclean_dict.values()),\n",
    "            title={'text': filename + \" Distrib subtype/unclean Journals\"})])\n",
    "        print(\"prepare for writing\")\n",
    "        fig.write_html(output_dir + \"/charts/\" + filename + \".html\")\n",
    "        #fig.write_image(output_dir + \"/charts/\" + filename + \".png\")\n",
    "        print(\"write fig\")\n",
    "        #fig.show()\n",
    "        #fig1.show()\n",
    "        #fig1.write_image(output_dir + \"/charts/\" + filename+\"_DistribClean\" + \".png\")\n",
    "        fig1.write_html(output_dir + \"/charts/\" + filename+\"_DistribClean\" + \".html\")\n",
    "        print(\"write fig1\")\n",
    "        #fig2.show()\n",
    "        #fig2.write_image(output_dir + \"/charts/\" + filename+\"_DistribUnclean\" + \".png\")\n",
    "        fig2.write_html(output_dir + \"/charts/\" + filename+\"_DistribUnclean\" + \".html\")\n",
    "        print(\"write fig2\")\n",
    "        \n",
    "        print(\"Pourcentage pour publis :\" + str(pub_percentage))\n",
    "        # print(\"Pourcentage pour journaux :\" + str(journal_percentage))\n",
    "\n",
    "overall_percentage_pub = overall_clean_journals / overall_nb_pub * 100\n",
    "overall_percentage_journal = overall_clean_journals / overall_nb_journals * 100\n",
    "\n",
    "fig1 = go.Figure()\n",
    "fig1.add_trace(go.Indicator(\n",
    "    mode=\"gauge+number\",\n",
    "    value=overall_percentage_pub,\n",
    "    title={'text': \"Pourcentage pour les publications\"},\n",
    "    gauge={'axis': {'range': [0, 100]}, 'bar': {'color': \"#4CAF50\"}},\n",
    "    domain={'row': 0, 'column': 0}\n",
    "))\n",
    "fig1.add_trace(go.Indicator(\n",
    "    mode=\"gauge+number\",\n",
    "    value=overall_percentage_journal,\n",
    "    title={'text': \"Pourcentage pour les journaux\"},\n",
    "    gauge={'axis': {'range': [0, 100]}, 'bar': {'color': \"#4CAF50\"}},\n",
    "    domain={'row': 0, 'column': 1}\n",
    "))\n",
    "fig1.update_layout(\n",
    "            grid={'rows': 1, 'columns': 2, 'pattern': \"independent\"},\n",
    "            template={'data': {\n",
    "                'indicator': [{\n",
    "                    'mode': \"number+gauge\",\n",
    "                    'delta': {'reference': 120}}]\n",
    "                }\n",
    "            }\n",
    "        )\n",
    "fig1.show()\n",
    "# Sauvegarder la figure en format PNG\n",
    "fig.write_image(output_dir + \"/charts/overall_journal.png\")\n",
    "fig.write_html(output_dir + \"/charts/overall_journal.html\")\n",
    "\n",
    "print(\"Traitement terminé. Les fichiers nettoyés sont disponibles dans le dossier ./data/cleanScopus.\")\n",
    "\n"
   ]
  },
  {
   "cell_type": "code",
   "execution_count": null,
   "metadata": {
    "ExecuteTime": {
     "end_time": "2024-11-22T09:39:35.547814Z",
     "start_time": "2024-11-22T09:39:35.541133Z"
    }
   },
   "outputs": [
    {
     "name": "stdout",
     "output_type": "stream",
     "text": [
      "{'Article': 116, 'Review': 11, 'Editorial': 1, 'Conference Paper': 1}\n"
     ]
    }
   ],
   "source": [
    "print(unclean_dict)"
   ]
  }
 ],
 "metadata": {
  "kernelspec": {
   "display_name": "Python 3",
   "language": "python",
   "name": "python3"
  },
  "language_info": {
   "codemirror_mode": {
    "name": "ipython",
    "version": 3
   },
   "file_extension": ".py",
   "mimetype": "text/x-python",
   "name": "python",
   "nbconvert_exporter": "python",
   "pygments_lexer": "ipython3",
   "version": "3.11.9"
  }
 },
 "nbformat": 4,
 "nbformat_minor": 2
}
